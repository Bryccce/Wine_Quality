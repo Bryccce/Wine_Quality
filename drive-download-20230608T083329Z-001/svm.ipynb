{
 "cells": [
  {
   "cell_type": "code",
   "execution_count": 2,
   "id": "e8851783",
   "metadata": {},
   "outputs": [],
   "source": [
    "\n",
    "import pandas as pd\n",
    "import numpy as np\n",
    "from sklearn.model_selection import train_test_split\n",
    "from matplotlib import pyplot\n",
    "from imblearn.over_sampling import RandomOverSampler\n",
    "from sklearn.metrics import accuracy_score\n",
    "import matplotlib.pyplot as plt\n",
    "from sklearn.svm import SVC\n",
    "from sklearn.model_selection import cross_val_score\n",
    "from imblearn.under_sampling import RandomUnderSampler\n",
    "from sklearn.linear_model import SGDClassifier\n",
    "from sklearn.metrics import f1_score\n",
    "from sklearn.metrics import recall_score\n",
    "from sklearn.metrics import precision_score\n",
    "from sklearn.preprocessing import PolynomialFeatures\n",
    "from sklearn.neural_network import MLPClassifier\n",
    "from sklearn.model_selection import train_test_split\n",
    "from matplotlib.pyplot import cm"
   ]
  },
  {
   "cell_type": "code",
   "execution_count": 3,
   "id": "8eb6576c",
   "metadata": {
    "scrolled": true
   },
   "outputs": [
    {
     "name": "stdout",
     "output_type": "stream",
     "text": [
      "      fixed acidity  volatile acidity  citric acid  residual sugar  chlorides  \\\n",
      "0               7.4             0.700         0.00             1.9      0.076   \n",
      "1               7.8             0.880         0.00             2.6      0.098   \n",
      "2               7.8             0.760         0.04             2.3      0.092   \n",
      "3              11.2             0.280         0.56             1.9      0.075   \n",
      "4               7.4             0.700         0.00             1.9      0.076   \n",
      "...             ...               ...          ...             ...        ...   \n",
      "1138            6.3             0.510         0.13             2.3      0.076   \n",
      "1139            6.8             0.620         0.08             1.9      0.068   \n",
      "1140            6.2             0.600         0.08             2.0      0.090   \n",
      "1141            5.9             0.550         0.10             2.2      0.062   \n",
      "1142            5.9             0.645         0.12             2.0      0.075   \n",
      "\n",
      "      free sulfur dioxide  total sulfur dioxide  density    pH  sulphates  \\\n",
      "0                    11.0                  34.0  0.99780  3.51       0.56   \n",
      "1                    25.0                  67.0  0.99680  3.20       0.68   \n",
      "2                    15.0                  54.0  0.99700  3.26       0.65   \n",
      "3                    17.0                  60.0  0.99800  3.16       0.58   \n",
      "4                    11.0                  34.0  0.99780  3.51       0.56   \n",
      "...                   ...                   ...      ...   ...        ...   \n",
      "1138                 29.0                  40.0  0.99574  3.42       0.75   \n",
      "1139                 28.0                  38.0  0.99651  3.42       0.82   \n",
      "1140                 32.0                  44.0  0.99490  3.45       0.58   \n",
      "1141                 39.0                  51.0  0.99512  3.52       0.76   \n",
      "1142                 32.0                  44.0  0.99547  3.57       0.71   \n",
      "\n",
      "      alcohol  quality    Id  \n",
      "0         9.4        5     0  \n",
      "1         9.8        5     1  \n",
      "2         9.8        5     2  \n",
      "3         9.8        6     3  \n",
      "4         9.4        5     4  \n",
      "...       ...      ...   ...  \n",
      "1138     11.0        6  1592  \n",
      "1139      9.5        6  1593  \n",
      "1140     10.5        5  1594  \n",
      "1141     11.2        6  1595  \n",
      "1142     10.2        5  1597  \n",
      "\n",
      "[1143 rows x 13 columns]\n"
     ]
    }
   ],
   "source": [
    "'''DATA PRE-PROCESS'''\n",
    "\n",
    "\n",
    "df = pd.read_csv(\"WineQT.csv\")\n",
    "print(df)\n",
    "#drop the un-related row that marked the id of the wine\n",
    "dfy = df['quality']\n",
    "#drop the un-related and target rows\n",
    "dfX = df.drop(columns = [\"Id\",\"quality\"])\n",
    "\n",
    "oversampler = RandomOverSampler(random_state = 42,sampling_strategy = {3:350,4:370,7:420})\n",
    "\n",
    "def max_abs_scale(df):\n",
    "    # copy the dataframe\n",
    "    df_scaled = df.copy()\n",
    "    # apply maximum absolute scaling\n",
    "    for column in df_scaled.columns:\n",
    "        df_scaled[column] = df_scaled[column]  / df_scaled[column].abs().max()\n",
    "    return df_scaled\n",
    "\n",
    "#normalize the data based on the maximum absolute value scaling\n",
    "dfX = max_abs_scale(dfX)\n",
    "\n",
    "X_resampled, y_resampled = oversampler.fit_resample(dfX, dfy)\n",
    "\n",
    "#convert pandas dataframe to numpy array\n",
    "X = X_resampled.to_numpy()\n",
    "y = y_resampled.to_numpy()"
   ]
  },
  {
   "cell_type": "code",
   "execution_count": null,
   "id": "56ca34b4",
   "metadata": {},
   "outputs": [],
   "source": []
  },
  {
   "cell_type": "code",
   "execution_count": 86,
   "id": "a1b2e1d0",
   "metadata": {},
   "outputs": [
    {
     "data": {
      "image/png": "[encoded data removed]",
      "text/plain": [
       "<Figure size 640x480 with 1 Axes>"
      ]
     },
     "metadata": {},
     "output_type": "display_data"
    }
   ],
   "source": [
    "#bar diagram of sample distribution before resample\n",
    "x_axis = [str(x) for x in range(1,11)]\n",
    "y_axis = []\n",
    "for i in range(1,11):\n",
    "    count = 0\n",
    "    for j in dfy.to_numpy():\n",
    "        if j == i:\n",
    "            count += 1\n",
    "    y_axis.append(count)\n",
    "    \n",
    "colorstring = 'bgrcmykw'\n",
    "colors = ['b','g','r','c','m','y','k','w']\n",
    "\n",
    "plt.bar(x_axis,y_axis, color = colors)\n",
    "plt.title('Data Distribution Before Oversampling')\n",
    "plt.xlabel('Wine Quality Level')\n",
    "plt.ylabel(\"# of apperance in sample data\")\n",
    "plt.grid(True)\n",
    "plt.show()"
   ]
  },
  {
   "cell_type": "code",
   "execution_count": 4,
   "id": "4fe8d12e",
   "metadata": {},
   "outputs": [
    {
     "data": {
      "image/png": "[encoded data removed]",
      "text/plain": [
       "<Figure size 640x480 with 1 Axes>"
      ]
     },
     "metadata": {},
     "output_type": "display_data"
    }
   ],
   "source": [
    "#bar diagram of sample distribution after resample\n",
    "x_axis = [str(x) for x in range(1,11)]\n",
    "y_axis = []\n",
    "for i in range(1,11):\n",
    "    count = 0\n",
    "    for j in y:\n",
    "        if j == i:\n",
    "            count += 1\n",
    "    y_axis.append(count)\n",
    "\n",
    "colorstring = 'bgrcmykw'\n",
    "colors = ['b','g','r','c','m','y','k','w']\n",
    "\n",
    "plt.bar(x_axis,y_axis, color = colors)\n",
    "plt.title('Data Distribution After Oversampling')\n",
    "plt.xlabel('Wine Quality Level')\n",
    "plt.ylabel(\"# of apperance in sample data\")\n",
    "plt.grid(True)\n",
    "plt.show()"
   ]
  },
  {
   "cell_type": "code",
   "execution_count": 5,
   "id": "e45dc633",
   "metadata": {},
   "outputs": [],
   "source": [
    "#split training, validation, and test set\n",
    "X_train_val, X_test, y_train_val, y_test = train_test_split(\n",
    "    X, y,   \n",
    "    test_size = 0.07, random_state=10, shuffle=True\n",
    ")\n",
    "\n",
    "X_train, X_val, y_train, y_val = train_test_split(\n",
    "    X_train_val, y_train_val, \n",
    "    test_size = 0.07, random_state=10, shuffle=True\n",
    ")"
   ]
  },
  {
   "cell_type": "code",
   "execution_count": 50,
   "id": "d9c99c44",
   "metadata": {},
   "outputs": [],
   "source": [
    "\n",
    "def weight_SVM(C=0.1,kernel = 'linear',degree = 2):\n",
    "    svm = SVC(C=C,kernel = kernel, degree = degree)\n",
    "    #svm = SGDClassifier(loss=loss, random_state=42, penalty = None, learning_rate = 'constant',eta0 = learning_rate,alpha = alpha, max_iter = max_iter)\n",
    "    svm.fit(X_train,y_train)\n",
    "    return svm.coef_"
   ]
  },
  {
   "cell_type": "code",
   "execution_count": 83,
   "id": "ab55777c",
   "metadata": {},
   "outputs": [],
   "source": [
    "def test_SVM(X,y, C=0.1,kernel = 'linear',degree = 2):\n",
    "    svm = SVC(C=C,kernel = kernel, degree = degree)\n",
    "    #svm = SGDClassifier(loss=loss, random_state=42, penalty = None, learning_rate = 'constant',eta0 = learning_rate,alpha = alpha, max_iter = max_iter)\n",
    "    svm.fit(X_train,y_train)\n",
    "    \n",
    "    #validation scores\n",
    "    y_pred = svm.predict(X)\n",
    "    recall_micro = recall_score(y,y_pred, average='macro')\n",
    "    print('recall_macro',recall_micro)\n",
    "    \n",
    "    f1_micro = f1_score(y,y_pred, average='macro')\n",
    "    print('f1_macro',f1_micro)\n",
    "    \n",
    "    precision_micro = precision_score(y,y_pred, average='macro')\n",
    "    print('precision_macro',precision_micro)\n",
    "    \n",
    "    accuracy_micro = accuracy_score(y,y_pred)\n",
    "    print('accuracy_macro',accuracy_micro)\n",
    "    \n",
    "    f1_micro = f1_score(y,y_pred,average='macro')\n",
    "    return accuracy_micro"
   ]
  },
  {
   "cell_type": "code",
   "execution_count": 84,
   "id": "cde5318f",
   "metadata": {},
   "outputs": [
    {
     "name": "stdout",
     "output_type": "stream",
     "text": [
      "Training Score\n",
      "recall_macro 0.3008318862326196\n",
      "f1_macro 0.23962595172799453\n",
      "precision_macro 0.30437358123504743\n",
      "accuracy_macro 0.3838105726872247\n",
      "Validation Score\n",
      "recall_macro 0.28096225243055056\n",
      "f1_macro 0.20890650681760303\n",
      "precision_macro 0.2928479143595422\n",
      "accuracy_macro 0.35036496350364965\n"
     ]
    },
    {
     "name": "stderr",
     "output_type": "stream",
     "text": [
      "/Users/waynewang/opt/anaconda3/lib/python3.8/site-packages/sklearn/metrics/_classification.py:1318: UndefinedMetricWarning: Precision is ill-defined and being set to 0.0 in labels with no predicted samples. Use `zero_division` parameter to control this behavior.\n",
      "  _warn_prf(average, modifier, msg_start, len(result))\n",
      "/Users/waynewang/opt/anaconda3/lib/python3.8/site-packages/sklearn/metrics/_classification.py:1318: UndefinedMetricWarning: Precision is ill-defined and being set to 0.0 in labels with no predicted samples. Use `zero_division` parameter to control this behavior.\n",
      "  _warn_prf(average, modifier, msg_start, len(result))\n"
     ]
    }
   ],
   "source": [
    "# Without any tuning. SVM\n",
    "print(\"Training Score\")\n",
    "result_None_train = test_SVM(X_train,y_train)\n",
    "print(\"Validation Score\")\n",
    "result_None_val = test_SVM(X_val,y_val)"
   ]
  },
  {
   "cell_type": "code",
   "execution_count": 85,
   "id": "200efb3c",
   "metadata": {},
   "outputs": [
    {
     "name": "stdout",
     "output_type": "stream",
     "text": [
      "*Polynomial of Degree: 2\n",
      "Training Result:\n",
      "recall_macro 0.44558391880949505\n",
      "f1_macro 0.4381327824635919\n",
      "precision_macro 0.44258335152371747\n",
      "accuracy_macro 0.5324889867841409\n",
      "Validation Result:\n",
      "recall_macro 0.41918860757921705\n",
      "f1_macro 0.3939121519213052\n",
      "precision_macro 0.43139505593773886\n",
      "accuracy_macro 0.48175182481751827\n",
      "------------------------\n",
      "*Polynomial of Degree: 3\n",
      "Training Result:\n"
     ]
    },
    {
     "name": "stderr",
     "output_type": "stream",
     "text": [
      "/Users/waynewang/opt/anaconda3/lib/python3.8/site-packages/sklearn/metrics/_classification.py:1318: UndefinedMetricWarning: Precision is ill-defined and being set to 0.0 in labels with no predicted samples. Use `zero_division` parameter to control this behavior.\n",
      "  _warn_prf(average, modifier, msg_start, len(result))\n",
      "/Users/waynewang/opt/anaconda3/lib/python3.8/site-packages/sklearn/metrics/_classification.py:1318: UndefinedMetricWarning: Precision is ill-defined and being set to 0.0 in labels with no predicted samples. Use `zero_division` parameter to control this behavior.\n",
      "  _warn_prf(average, modifier, msg_start, len(result))\n"
     ]
    },
    {
     "name": "stdout",
     "output_type": "stream",
     "text": [
      "recall_macro 0.4848807964207295\n",
      "f1_macro 0.48052383058518977\n",
      "precision_macro 0.48542120390169213\n",
      "accuracy_macro 0.5754405286343612\n",
      "Validation Result:\n",
      "recall_macro 0.43120577001204596\n",
      "f1_macro 0.41448415378759856\n",
      "precision_macro 0.43146950830140485\n",
      "accuracy_macro 0.5036496350364964\n",
      "------------------------\n",
      "*Polynomial of Degree: 4\n",
      "Training Result:\n"
     ]
    },
    {
     "name": "stderr",
     "output_type": "stream",
     "text": [
      "/Users/waynewang/opt/anaconda3/lib/python3.8/site-packages/sklearn/metrics/_classification.py:1318: UndefinedMetricWarning: Precision is ill-defined and being set to 0.0 in labels with no predicted samples. Use `zero_division` parameter to control this behavior.\n",
      "  _warn_prf(average, modifier, msg_start, len(result))\n",
      "/Users/waynewang/opt/anaconda3/lib/python3.8/site-packages/sklearn/metrics/_classification.py:1318: UndefinedMetricWarning: Precision is ill-defined and being set to 0.0 in labels with no predicted samples. Use `zero_division` parameter to control this behavior.\n",
      "  _warn_prf(average, modifier, msg_start, len(result))\n"
     ]
    },
    {
     "name": "stdout",
     "output_type": "stream",
     "text": [
      "recall_macro 0.5215877579951002\n",
      "f1_macro 0.5153380712266228\n",
      "precision_macro 0.5140752624944663\n",
      "accuracy_macro 0.6139867841409692\n",
      "Validation Result:\n",
      "recall_macro 0.4938788598556762\n",
      "f1_macro 0.47890726707060943\n",
      "precision_macro 0.49113996242619434\n",
      "accuracy_macro 0.583941605839416\n",
      "------------------------\n",
      "*Polynomial of Degree: 5\n",
      "Training Result:\n"
     ]
    },
    {
     "name": "stderr",
     "output_type": "stream",
     "text": [
      "/Users/waynewang/opt/anaconda3/lib/python3.8/site-packages/sklearn/metrics/_classification.py:1318: UndefinedMetricWarning: Precision is ill-defined and being set to 0.0 in labels with no predicted samples. Use `zero_division` parameter to control this behavior.\n",
      "  _warn_prf(average, modifier, msg_start, len(result))\n",
      "/Users/waynewang/opt/anaconda3/lib/python3.8/site-packages/sklearn/metrics/_classification.py:1318: UndefinedMetricWarning: Precision is ill-defined and being set to 0.0 in labels with no predicted samples. Use `zero_division` parameter to control this behavior.\n",
      "  _warn_prf(average, modifier, msg_start, len(result))\n"
     ]
    },
    {
     "name": "stdout",
     "output_type": "stream",
     "text": [
      "recall_macro 0.5595389214926276\n",
      "f1_macro 0.5575309565366461\n",
      "precision_macro 0.55766817205691\n",
      "accuracy_macro 0.6585903083700441\n",
      "Validation Result:\n",
      "recall_macro 0.534876147796937\n",
      "f1_macro 0.5253873455736809\n",
      "precision_macro 0.5398860398860399\n",
      "accuracy_macro 0.635036496350365\n",
      "------------------------\n",
      "*Polynomial of Degree: 6\n",
      "Training Result:\n"
     ]
    },
    {
     "name": "stderr",
     "output_type": "stream",
     "text": [
      "/Users/waynewang/opt/anaconda3/lib/python3.8/site-packages/sklearn/metrics/_classification.py:1318: UndefinedMetricWarning: Precision is ill-defined and being set to 0.0 in labels with no predicted samples. Use `zero_division` parameter to control this behavior.\n",
      "  _warn_prf(average, modifier, msg_start, len(result))\n",
      "/Users/waynewang/opt/anaconda3/lib/python3.8/site-packages/sklearn/metrics/_classification.py:1318: UndefinedMetricWarning: Precision is ill-defined and being set to 0.0 in labels with no predicted samples. Use `zero_division` parameter to control this behavior.\n",
      "  _warn_prf(average, modifier, msg_start, len(result))\n"
     ]
    },
    {
     "name": "stdout",
     "output_type": "stream",
     "text": [
      "recall_macro 0.63222842219217\n",
      "f1_macro 0.6342293503709152\n",
      "precision_macro 0.7771790430660862\n",
      "accuracy_macro 0.7268722466960352\n",
      "Validation Result:\n",
      "recall_macro 0.5754768152051684\n",
      "f1_macro 0.5585288234224405\n",
      "precision_macro 0.5625340057541858\n",
      "accuracy_macro 0.6861313868613139\n",
      "------------------------\n",
      "*Polynomial of Degree: 7\n",
      "Training Result:\n"
     ]
    },
    {
     "name": "stderr",
     "output_type": "stream",
     "text": [
      "/Users/waynewang/opt/anaconda3/lib/python3.8/site-packages/sklearn/metrics/_classification.py:1318: UndefinedMetricWarning: Precision is ill-defined and being set to 0.0 in labels with no predicted samples. Use `zero_division` parameter to control this behavior.\n",
      "  _warn_prf(average, modifier, msg_start, len(result))\n"
     ]
    },
    {
     "name": "stdout",
     "output_type": "stream",
     "text": [
      "recall_macro 0.7014695550911129\n",
      "f1_macro 0.7232374776400105\n",
      "precision_macro 0.819061316749884\n",
      "accuracy_macro 0.7720264317180616\n",
      "Validation Result:\n",
      "recall_macro 0.6358542985028554\n",
      "f1_macro 0.61861792506399\n",
      "precision_macro 0.6215124389676819\n",
      "accuracy_macro 0.7445255474452555\n",
      "------------------------\n",
      "*Polynomial of Degree: 8\n",
      "Training Result:\n"
     ]
    },
    {
     "name": "stderr",
     "output_type": "stream",
     "text": [
      "/Users/waynewang/opt/anaconda3/lib/python3.8/site-packages/sklearn/metrics/_classification.py:1318: UndefinedMetricWarning: Precision is ill-defined and being set to 0.0 in labels with no predicted samples. Use `zero_division` parameter to control this behavior.\n",
      "  _warn_prf(average, modifier, msg_start, len(result))\n"
     ]
    },
    {
     "name": "stdout",
     "output_type": "stream",
     "text": [
      "recall_macro 0.7677266822391607\n",
      "f1_macro 0.7883281090734843\n",
      "precision_macro 0.8313753669411216\n",
      "accuracy_macro 0.8133259911894273\n",
      "Validation Result:\n",
      "recall_macro 0.6136297488589509\n",
      "f1_macro 0.5842420295003882\n",
      "precision_macro 0.5945733279066612\n",
      "accuracy_macro 0.708029197080292\n",
      "------------------------\n",
      "*Polynomial of Degree: 9\n",
      "Training Result:\n"
     ]
    },
    {
     "name": "stderr",
     "output_type": "stream",
     "text": [
      "/Users/waynewang/opt/anaconda3/lib/python3.8/site-packages/sklearn/metrics/_classification.py:1318: UndefinedMetricWarning: Precision is ill-defined and being set to 0.0 in labels with no predicted samples. Use `zero_division` parameter to control this behavior.\n",
      "  _warn_prf(average, modifier, msg_start, len(result))\n"
     ]
    },
    {
     "name": "stdout",
     "output_type": "stream",
     "text": [
      "recall_macro 0.807909829795372\n",
      "f1_macro 0.8331614771098881\n",
      "precision_macro 0.8830444295212648\n",
      "accuracy_macro 0.8502202643171806\n",
      "Validation Result:\n",
      "recall_macro 0.6779360424521714\n",
      "f1_macro 0.6515693720888716\n",
      "precision_macro 0.6603733815115929\n",
      "accuracy_macro 0.781021897810219\n",
      "------------------------\n",
      "*Polynomial of Degree: 10\n",
      "Training Result:\n"
     ]
    },
    {
     "name": "stderr",
     "output_type": "stream",
     "text": [
      "/Users/waynewang/opt/anaconda3/lib/python3.8/site-packages/sklearn/metrics/_classification.py:1318: UndefinedMetricWarning: Precision is ill-defined and being set to 0.0 in labels with no predicted samples. Use `zero_division` parameter to control this behavior.\n",
      "  _warn_prf(average, modifier, msg_start, len(result))\n"
     ]
    },
    {
     "name": "stdout",
     "output_type": "stream",
     "text": [
      "recall_macro 0.8821063164221513\n",
      "f1_macro 0.8989812947796829\n",
      "precision_macro 0.9231365328766036\n",
      "accuracy_macro 0.901431718061674\n",
      "Validation Result:\n",
      "recall_macro 0.6751221896383187\n",
      "f1_macro 0.6530517226631936\n",
      "precision_macro 0.6588049095607235\n",
      "accuracy_macro 0.781021897810219\n",
      "------------------------\n",
      "*Polynomial of Degree: 11\n",
      "Training Result:\n"
     ]
    },
    {
     "name": "stderr",
     "output_type": "stream",
     "text": [
      "/Users/waynewang/opt/anaconda3/lib/python3.8/site-packages/sklearn/metrics/_classification.py:1318: UndefinedMetricWarning: Precision is ill-defined and being set to 0.0 in labels with no predicted samples. Use `zero_division` parameter to control this behavior.\n",
      "  _warn_prf(average, modifier, msg_start, len(result))\n"
     ]
    },
    {
     "name": "stdout",
     "output_type": "stream",
     "text": [
      "recall_macro 0.9460421276944513\n",
      "f1_macro 0.9404291514060298\n",
      "precision_macro 0.9352535950263735\n",
      "accuracy_macro 0.9289647577092511\n",
      "Validation Result:\n",
      "recall_macro 0.7007750314201927\n",
      "f1_macro 0.6881388268431458\n",
      "precision_macro 0.6977184637068358\n",
      "accuracy_macro 0.8175182481751825\n",
      "------------------------\n",
      "*Polynomial of Degree: 12\n",
      "Training Result:\n",
      "recall_macro 0.9675522224954238\n",
      "f1_macro 0.9623713824667482\n",
      "precision_macro 0.9576231859055442\n",
      "accuracy_macro 0.9570484581497798\n",
      "Validation Result:\n",
      "recall_macro 0.6871037564585952\n",
      "f1_macro 0.6735808792146821\n",
      "precision_macro 0.6687542087542088\n",
      "accuracy_macro 0.7956204379562044\n",
      "------------------------\n"
     ]
    }
   ],
   "source": [
    "\n",
    "# Try different degrees of polynomial tranformation\n",
    "degree_val = []\n",
    "degree_train = []\n",
    "for i in range(2,13):\n",
    "    poly = PolynomialFeatures(3)\n",
    "    print(\"*Polynomial of Degree:\",i)\n",
    "    print(\"Training Result:\")\n",
    "    poly_train = test_SVM(X_train,y_train,kernel = 'poly',degree = i)\n",
    "    print(\"Validation Result:\")\n",
    "    poly_val = test_SVM(X_val,y_val,degree = i,kernel = 'poly')\n",
    "    print('------'*4)\n",
    "    degree_val.append(poly_val)\n",
    "    degree_train.append(poly_train)"
   ]
  },
  {
   "cell_type": "code",
   "execution_count": 31,
   "id": "d281ced3",
   "metadata": {},
   "outputs": [
    {
     "data": {
      "image/png": "[encoded data removed]",
      "text/plain": [
       "<Figure size 640x480 with 1 Axes>"
      ]
     },
     "metadata": {},
     "output_type": "display_data"
    }
   ],
   "source": [
    "#plot the change in validation and training score with respect to different regulation strength\n",
    "plt.plot([i for i in range(2,13)], degree_train,label = \"training\",color ='b')\n",
    "plt.plot([i for i in range(2,13)],degree_val,label = \"validation\",color = \"r\")\n",
    "plt.xlabel(\"degree\")\n",
    "plt.ylabel(\"precision\")\n",
    "plt.title(\"polynomial degree vs. precision\")\n",
    "plt.legend()\n",
    "plt.show()"
   ]
  },
  {
   "cell_type": "code",
   "execution_count": 27,
   "id": "b19c8f1b",
   "metadata": {},
   "outputs": [
    {
     "name": "stdout",
     "output_type": "stream",
     "text": [
      "RBF\n",
      "Training Result:\n",
      "recall_micro 0.5099118942731278\n",
      "f1_micro 0.5099118942731278\n",
      "precision_micro 0.5099118942731278\n",
      "accuracy_micro 0.5099118942731278\n",
      "Validation Result:\n",
      "recall_micro 0.43795620437956206\n",
      "f1_micro 0.43795620437956206\n",
      "precision_micro 0.43795620437956206\n",
      "accuracy_micro 0.43795620437956206\n"
     ]
    }
   ],
   "source": [
    "#try RBF kernel\n",
    "print(\"RBF\")\n",
    "print(\"Training Result:\")\n",
    "result_rbf = test_SVM(X_train,y_train,kernel = 'rbf')\n",
    "print(\"Validation Result:\")\n",
    "result_rbf = test_SVM(X_val,y_val,kernel = 'rbf')\n",
    "    "
   ]
  },
  {
   "cell_type": "code",
   "execution_count": 28,
   "id": "d8927abe",
   "metadata": {},
   "outputs": [
    {
     "name": "stdout",
     "output_type": "stream",
     "text": [
      "sigmoid\n",
      "Training Result:\n",
      "recall_micro 0.22852422907488987\n",
      "f1_micro 0.22852422907488987\n",
      "precision_micro 0.22852422907488987\n",
      "accuracy_micro 0.22852422907488987\n",
      "Validation Result:\n",
      "recall_micro 0.25547445255474455\n",
      "f1_micro 0.25547445255474455\n",
      "precision_micro 0.25547445255474455\n",
      "accuracy_micro 0.25547445255474455\n"
     ]
    }
   ],
   "source": [
    "#try sigmoid kernel\n",
    "#try sigmoid kernel\n",
    "print(\"sigmoid\")\n",
    "print(\"Training Result:\")\n",
    "result_sig = test_SVM(X_train,y_train,kernel = 'sigmoid')\n",
    "print(\"Validation Result:\")\n",
    "result_sig = test_SVM(X_val,y_val,kernel = 'sigmoid')"
   ]
  },
  {
   "cell_type": "code",
   "execution_count": 37,
   "id": "9519623f",
   "metadata": {},
   "outputs": [
    {
     "name": "stdout",
     "output_type": "stream",
     "text": [
      "C = 0.001\n",
      "Training Result:\n",
      "recall_micro 0.5969162995594713\n",
      "f1_micro 0.5969162995594713\n",
      "precision_micro 0.5969162995594713\n",
      "accuracy_micro 0.5969162995594713\n",
      "Validation Result:\n",
      "recall_micro 0.5255474452554745\n",
      "f1_micro 0.5255474452554745\n",
      "precision_micro 0.5255474452554745\n",
      "accuracy_micro 0.5255474452554745\n",
      "C = 0.005\n",
      "Training Result:\n",
      "recall_micro 0.6618942731277533\n",
      "f1_micro 0.6618942731277533\n",
      "precision_micro 0.6618942731277533\n",
      "accuracy_micro 0.6618942731277533\n",
      "Validation Result:\n",
      "recall_micro 0.6204379562043796\n",
      "f1_micro 0.6204379562043796\n",
      "precision_micro 0.6204379562043796\n",
      "accuracy_micro 0.6204379562043796\n",
      "C = 0.1\n",
      "Training Result:\n",
      "recall_micro 0.7720264317180616\n",
      "f1_micro 0.7720264317180616\n",
      "precision_micro 0.7720264317180616\n",
      "accuracy_micro 0.7720264317180616\n",
      "Validation Result:\n",
      "recall_micro 0.7445255474452555\n",
      "f1_micro 0.7445255474452555\n",
      "precision_micro 0.7445255474452555\n",
      "accuracy_micro 0.7445255474452555\n",
      "C = 0.5\n",
      "Training Result:\n",
      "recall_micro 0.8111233480176211\n",
      "f1_micro 0.8111233480176211\n",
      "precision_micro 0.8111233480176211\n",
      "accuracy_micro 0.8111233480176211\n",
      "Validation Result:\n",
      "recall_micro 0.6934306569343066\n",
      "f1_micro 0.6934306569343066\n",
      "precision_micro 0.6934306569343066\n",
      "accuracy_micro 0.6934306569343066\n",
      "C = 1\n",
      "Training Result:\n",
      "recall_micro 0.8386563876651982\n",
      "f1_micro 0.8386563876651983\n",
      "precision_micro 0.8386563876651982\n",
      "accuracy_micro 0.8386563876651982\n",
      "Validation Result:\n",
      "recall_micro 0.7445255474452555\n",
      "f1_micro 0.7445255474452555\n",
      "precision_micro 0.7445255474452555\n",
      "accuracy_micro 0.7445255474452555\n",
      "C = 5\n",
      "Training Result:\n",
      "recall_micro 0.8799559471365639\n",
      "f1_micro 0.8799559471365639\n",
      "precision_micro 0.8799559471365639\n",
      "accuracy_micro 0.8799559471365639\n",
      "Validation Result:\n",
      "recall_micro 0.7664233576642335\n",
      "f1_micro 0.7664233576642334\n",
      "precision_micro 0.7664233576642335\n",
      "accuracy_micro 0.7664233576642335\n",
      "C = 10\n",
      "Training Result:\n",
      "recall_micro 0.9069383259911894\n",
      "f1_micro 0.9069383259911894\n",
      "precision_micro 0.9069383259911894\n",
      "accuracy_micro 0.9069383259911894\n",
      "Validation Result:\n",
      "recall_micro 0.781021897810219\n",
      "f1_micro 0.781021897810219\n",
      "precision_micro 0.781021897810219\n",
      "accuracy_micro 0.781021897810219\n",
      "C = 15\n",
      "Training Result:\n",
      "recall_micro 0.9201541850220264\n",
      "f1_micro 0.9201541850220264\n",
      "precision_micro 0.9201541850220264\n",
      "accuracy_micro 0.9201541850220264\n",
      "Validation Result:\n",
      "recall_micro 0.8175182481751825\n",
      "f1_micro 0.8175182481751826\n",
      "precision_micro 0.8175182481751825\n",
      "accuracy_micro 0.8175182481751825\n",
      "C = 20\n",
      "Training Result:\n",
      "recall_micro 0.9234581497797357\n",
      "f1_micro 0.9234581497797357\n",
      "precision_micro 0.9234581497797357\n",
      "accuracy_micro 0.9234581497797357\n",
      "Validation Result:\n",
      "recall_micro 0.8102189781021898\n",
      "f1_micro 0.8102189781021898\n",
      "precision_micro 0.8102189781021898\n",
      "accuracy_micro 0.8102189781021898\n",
      "C = 30\n",
      "Training Result:\n",
      "recall_micro 0.9322687224669604\n",
      "f1_micro 0.9322687224669604\n",
      "precision_micro 0.9322687224669604\n",
      "accuracy_micro 0.9322687224669604\n",
      "Validation Result:\n",
      "recall_micro 0.8029197080291971\n",
      "f1_micro 0.8029197080291971\n",
      "precision_micro 0.8029197080291971\n",
      "accuracy_micro 0.8029197080291971\n",
      "C = 50\n",
      "Training Result:\n",
      "recall_micro 0.9443832599118943\n",
      "f1_micro 0.9443832599118944\n",
      "precision_micro 0.9443832599118943\n",
      "accuracy_micro 0.9443832599118943\n",
      "Validation Result:\n",
      "recall_micro 0.8175182481751825\n",
      "f1_micro 0.8175182481751826\n",
      "precision_micro 0.8175182481751825\n",
      "accuracy_micro 0.8175182481751825\n",
      "C = 80\n",
      "Training Result:\n",
      "recall_micro 0.9553964757709251\n",
      "f1_micro 0.9553964757709251\n",
      "precision_micro 0.9553964757709251\n",
      "accuracy_micro 0.9553964757709251\n",
      "Validation Result:\n",
      "recall_micro 0.8175182481751825\n",
      "f1_micro 0.8175182481751826\n",
      "precision_micro 0.8175182481751825\n",
      "accuracy_micro 0.8175182481751825\n"
     ]
    }
   ],
   "source": [
    "#Use the best performed polynomial model, \n",
    "# Polynomial to the 8th degree\n",
    "# Tune Regulation constant\n",
    "\n",
    "C_s = [0.001,0.005,0.1,0.5,1,5,10,15,20,30,50,80]\n",
    "C_score_poly_train = []\n",
    "C_score_poly_val = []\n",
    "SVM_weight = []\n",
    "for i in C_s:\n",
    "    print(\"C =\", i)\n",
    "    print(\"Training Result:\")\n",
    "    result_poly_train = test_SVM(X_train,y_train,kernel = 'poly',degree = 7, C= i)\n",
    "    C_score_poly_train.append(result_poly_train)\n",
    "    print(\"Validation Result:\")\n",
    "    result_poly_val = test_SVM(X_val,y_val,kernel = 'poly',degree = 7, C=i)\n",
    "    C_score_poly_val.append(result_poly_val)\n",
    "    "
   ]
  },
  {
   "cell_type": "code",
   "execution_count": 38,
   "id": "1d70777d",
   "metadata": {},
   "outputs": [
    {
     "data": {
      "image/png": "[encoded data removed]",
      "text/plain": [
       "<Figure size 640x480 with 1 Axes>"
      ]
     },
     "metadata": {},
     "output_type": "display_data"
    }
   ],
   "source": [
    "#plot the change in validation and training score with respect to different regulation strength\n",
    "plt.plot(C_s, C_score_poly_train,label = \"training\",color ='b')\n",
    "plt.plot(C_s,C_score_poly_val,label = \"validation\",color = \"r\")\n",
    "plt.xlabel(\"Regulation Strength\")\n",
    "plt.ylabel(\"precision\")\n",
    "plt.title('Polynomial Degree 7')\n",
    "plt.legend()\n",
    "plt.show()"
   ]
  },
  {
   "cell_type": "code",
   "execution_count": 86,
   "id": "4187044d",
   "metadata": {},
   "outputs": [
    {
     "name": "stdout",
     "output_type": "stream",
     "text": [
      "C = 0.001\n",
      "Training Result:\n",
      "recall_macro 0.16666666666666666\n",
      "f1_macro 0.06200507993425967\n",
      "precision_macro 0.03808737151248164\n",
      "accuracy_macro 0.22852422907488987\n",
      "Validation Result:\n"
     ]
    },
    {
     "name": "stderr",
     "output_type": "stream",
     "text": [
      "/Users/waynewang/opt/anaconda3/lib/python3.8/site-packages/sklearn/metrics/_classification.py:1318: UndefinedMetricWarning: Precision is ill-defined and being set to 0.0 in labels with no predicted samples. Use `zero_division` parameter to control this behavior.\n",
      "  _warn_prf(average, modifier, msg_start, len(result))\n"
     ]
    },
    {
     "name": "stdout",
     "output_type": "stream",
     "text": [
      "recall_macro 0.16666666666666666\n",
      "f1_macro 0.06782945736434108\n",
      "precision_macro 0.04257907542579076\n",
      "accuracy_macro 0.25547445255474455\n",
      "C = 0.005\n",
      "Training Result:\n"
     ]
    },
    {
     "name": "stderr",
     "output_type": "stream",
     "text": [
      "/Users/waynewang/opt/anaconda3/lib/python3.8/site-packages/sklearn/metrics/_classification.py:1318: UndefinedMetricWarning: Precision is ill-defined and being set to 0.0 in labels with no predicted samples. Use `zero_division` parameter to control this behavior.\n",
      "  _warn_prf(average, modifier, msg_start, len(result))\n"
     ]
    },
    {
     "name": "stdout",
     "output_type": "stream",
     "text": [
      "recall_macro 0.16666666666666666\n",
      "f1_macro 0.06200507993425967\n",
      "precision_macro 0.03808737151248164\n",
      "accuracy_macro 0.22852422907488987\n",
      "Validation Result:\n"
     ]
    },
    {
     "name": "stderr",
     "output_type": "stream",
     "text": [
      "/Users/waynewang/opt/anaconda3/lib/python3.8/site-packages/sklearn/metrics/_classification.py:1318: UndefinedMetricWarning: Precision is ill-defined and being set to 0.0 in labels with no predicted samples. Use `zero_division` parameter to control this behavior.\n",
      "  _warn_prf(average, modifier, msg_start, len(result))\n"
     ]
    },
    {
     "name": "stdout",
     "output_type": "stream",
     "text": [
      "recall_macro 0.16666666666666666\n",
      "f1_macro 0.06782945736434108\n",
      "precision_macro 0.04257907542579076\n",
      "accuracy_macro 0.25547445255474455\n",
      "C = 0.1\n",
      "Training Result:\n"
     ]
    },
    {
     "name": "stderr",
     "output_type": "stream",
     "text": [
      "/Users/waynewang/opt/anaconda3/lib/python3.8/site-packages/sklearn/metrics/_classification.py:1318: UndefinedMetricWarning: Precision is ill-defined and being set to 0.0 in labels with no predicted samples. Use `zero_division` parameter to control this behavior.\n",
      "  _warn_prf(average, modifier, msg_start, len(result))\n"
     ]
    },
    {
     "name": "stdout",
     "output_type": "stream",
     "text": [
      "recall_macro 0.42877727044733893\n",
      "f1_macro 0.4160604067505715\n",
      "precision_macro 0.44452935838192625\n",
      "accuracy_macro 0.5099118942731278\n",
      "Validation Result:\n"
     ]
    },
    {
     "name": "stderr",
     "output_type": "stream",
     "text": [
      "/Users/waynewang/opt/anaconda3/lib/python3.8/site-packages/sklearn/metrics/_classification.py:1318: UndefinedMetricWarning: Precision is ill-defined and being set to 0.0 in labels with no predicted samples. Use `zero_division` parameter to control this behavior.\n",
      "  _warn_prf(average, modifier, msg_start, len(result))\n"
     ]
    },
    {
     "name": "stdout",
     "output_type": "stream",
     "text": [
      "recall_macro 0.38812671531189186\n",
      "f1_macro 0.34269765231201027\n",
      "precision_macro 0.394558682058682\n",
      "accuracy_macro 0.43795620437956206\n",
      "C = 0.5\n",
      "Training Result:\n"
     ]
    },
    {
     "name": "stderr",
     "output_type": "stream",
     "text": [
      "/Users/waynewang/opt/anaconda3/lib/python3.8/site-packages/sklearn/metrics/_classification.py:1318: UndefinedMetricWarning: Precision is ill-defined and being set to 0.0 in labels with no predicted samples. Use `zero_division` parameter to control this behavior.\n",
      "  _warn_prf(average, modifier, msg_start, len(result))\n"
     ]
    },
    {
     "name": "stdout",
     "output_type": "stream",
     "text": [
      "recall_macro 0.4819430966420228\n",
      "f1_macro 0.4770416345120135\n",
      "precision_macro 0.48828292236657284\n",
      "accuracy_macro 0.5704845814977973\n",
      "Validation Result:\n"
     ]
    },
    {
     "name": "stderr",
     "output_type": "stream",
     "text": [
      "/Users/waynewang/opt/anaconda3/lib/python3.8/site-packages/sklearn/metrics/_classification.py:1318: UndefinedMetricWarning: Precision is ill-defined and being set to 0.0 in labels with no predicted samples. Use `zero_division` parameter to control this behavior.\n",
      "  _warn_prf(average, modifier, msg_start, len(result))\n"
     ]
    },
    {
     "name": "stdout",
     "output_type": "stream",
     "text": [
      "recall_macro 0.44680157771311685\n",
      "f1_macro 0.42580524938680964\n",
      "precision_macro 0.4650907209730739\n",
      "accuracy_macro 0.5109489051094891\n",
      "C = 1\n",
      "Training Result:\n"
     ]
    },
    {
     "name": "stderr",
     "output_type": "stream",
     "text": [
      "/Users/waynewang/opt/anaconda3/lib/python3.8/site-packages/sklearn/metrics/_classification.py:1318: UndefinedMetricWarning: Precision is ill-defined and being set to 0.0 in labels with no predicted samples. Use `zero_division` parameter to control this behavior.\n",
      "  _warn_prf(average, modifier, msg_start, len(result))\n"
     ]
    },
    {
     "name": "stdout",
     "output_type": "stream",
     "text": [
      "recall_macro 0.5038571491103997\n",
      "f1_macro 0.5006186730373833\n",
      "precision_macro 0.5110608374112803\n",
      "accuracy_macro 0.5963656387665198\n",
      "Validation Result:\n",
      "recall_macro 0.4662934893102915\n",
      "f1_macro 0.4435827031540019\n",
      "precision_macro 0.4793780822058695\n",
      "accuracy_macro 0.5328467153284672\n",
      "C = 5\n",
      "Training Result:\n"
     ]
    },
    {
     "name": "stderr",
     "output_type": "stream",
     "text": [
      "/Users/waynewang/opt/anaconda3/lib/python3.8/site-packages/sklearn/metrics/_classification.py:1318: UndefinedMetricWarning: Precision is ill-defined and being set to 0.0 in labels with no predicted samples. Use `zero_division` parameter to control this behavior.\n",
      "  _warn_prf(average, modifier, msg_start, len(result))\n",
      "/Users/waynewang/opt/anaconda3/lib/python3.8/site-packages/sklearn/metrics/_classification.py:1318: UndefinedMetricWarning: Precision is ill-defined and being set to 0.0 in labels with no predicted samples. Use `zero_division` parameter to control this behavior.\n",
      "  _warn_prf(average, modifier, msg_start, len(result))\n"
     ]
    },
    {
     "name": "stdout",
     "output_type": "stream",
     "text": [
      "recall_macro 0.5407690682702141\n",
      "f1_macro 0.5356833271938138\n",
      "precision_macro 0.5324773540163633\n",
      "accuracy_macro 0.6349118942731278\n",
      "Validation Result:\n",
      "recall_macro 0.5104521846632964\n",
      "f1_macro 0.49714297688799164\n",
      "precision_macro 0.5075746099075897\n",
      "accuracy_macro 0.5985401459854015\n",
      "C = 10\n",
      "Training Result:\n"
     ]
    },
    {
     "name": "stderr",
     "output_type": "stream",
     "text": [
      "/Users/waynewang/opt/anaconda3/lib/python3.8/site-packages/sklearn/metrics/_classification.py:1318: UndefinedMetricWarning: Precision is ill-defined and being set to 0.0 in labels with no predicted samples. Use `zero_division` parameter to control this behavior.\n",
      "  _warn_prf(average, modifier, msg_start, len(result))\n",
      "/Users/waynewang/opt/anaconda3/lib/python3.8/site-packages/sklearn/metrics/_classification.py:1318: UndefinedMetricWarning: Precision is ill-defined and being set to 0.0 in labels with no predicted samples. Use `zero_division` parameter to control this behavior.\n",
      "  _warn_prf(average, modifier, msg_start, len(result))\n"
     ]
    },
    {
     "name": "stdout",
     "output_type": "stream",
     "text": [
      "recall_macro 0.5565809262463363\n",
      "f1_macro 0.5527322773791559\n",
      "precision_macro 0.5508142285728682\n",
      "accuracy_macro 0.6541850220264317\n",
      "Validation Result:\n",
      "recall_macro 0.5253523382731276\n",
      "f1_macro 0.5152180238304197\n",
      "precision_macro 0.526305106660596\n",
      "accuracy_macro 0.6204379562043796\n",
      "C = 15\n",
      "Training Result:\n"
     ]
    },
    {
     "name": "stderr",
     "output_type": "stream",
     "text": [
      "/Users/waynewang/opt/anaconda3/lib/python3.8/site-packages/sklearn/metrics/_classification.py:1318: UndefinedMetricWarning: Precision is ill-defined and being set to 0.0 in labels with no predicted samples. Use `zero_division` parameter to control this behavior.\n",
      "  _warn_prf(average, modifier, msg_start, len(result))\n",
      "/Users/waynewang/opt/anaconda3/lib/python3.8/site-packages/sklearn/metrics/_classification.py:1318: UndefinedMetricWarning: Precision is ill-defined and being set to 0.0 in labels with no predicted samples. Use `zero_division` parameter to control this behavior.\n",
      "  _warn_prf(average, modifier, msg_start, len(result))\n"
     ]
    },
    {
     "name": "stdout",
     "output_type": "stream",
     "text": [
      "recall_macro 0.5920725521132147\n",
      "f1_macro 0.5845162466029644\n",
      "precision_macro 0.5813047119583864\n",
      "accuracy_macro 0.6921806167400881\n",
      "Validation Result:\n",
      "recall_macro 0.5814675986153066\n",
      "f1_macro 0.5734945815380598\n",
      "precision_macro 0.579695654907879\n",
      "accuracy_macro 0.6934306569343066\n",
      "C = 20\n",
      "Training Result:\n"
     ]
    },
    {
     "name": "stderr",
     "output_type": "stream",
     "text": [
      "/Users/waynewang/opt/anaconda3/lib/python3.8/site-packages/sklearn/metrics/_classification.py:1318: UndefinedMetricWarning: Precision is ill-defined and being set to 0.0 in labels with no predicted samples. Use `zero_division` parameter to control this behavior.\n",
      "  _warn_prf(average, modifier, msg_start, len(result))\n",
      "/Users/waynewang/opt/anaconda3/lib/python3.8/site-packages/sklearn/metrics/_classification.py:1318: UndefinedMetricWarning: Precision is ill-defined and being set to 0.0 in labels with no predicted samples. Use `zero_division` parameter to control this behavior.\n",
      "  _warn_prf(average, modifier, msg_start, len(result))\n"
     ]
    },
    {
     "name": "stdout",
     "output_type": "stream",
     "text": [
      "recall_macro 0.6027184520394503\n",
      "f1_macro 0.5953876692618026\n",
      "precision_macro 0.5911457194556848\n",
      "accuracy_macro 0.704295154185022\n",
      "Validation Result:\n",
      "recall_macro 0.5794868402678249\n",
      "f1_macro 0.5674487720336037\n",
      "precision_macro 0.5699490662139218\n",
      "accuracy_macro 0.6861313868613139\n",
      "C = 30\n",
      "Training Result:\n"
     ]
    },
    {
     "name": "stderr",
     "output_type": "stream",
     "text": [
      "/Users/waynewang/opt/anaconda3/lib/python3.8/site-packages/sklearn/metrics/_classification.py:1318: UndefinedMetricWarning: Precision is ill-defined and being set to 0.0 in labels with no predicted samples. Use `zero_division` parameter to control this behavior.\n",
      "  _warn_prf(average, modifier, msg_start, len(result))\n",
      "/Users/waynewang/opt/anaconda3/lib/python3.8/site-packages/sklearn/metrics/_classification.py:1318: UndefinedMetricWarning: Precision is ill-defined and being set to 0.0 in labels with no predicted samples. Use `zero_division` parameter to control this behavior.\n",
      "  _warn_prf(average, modifier, msg_start, len(result))\n"
     ]
    },
    {
     "name": "stdout",
     "output_type": "stream",
     "text": [
      "recall_macro 0.6213111305767286\n",
      "f1_macro 0.6135295002134825\n",
      "precision_macro 0.6089173840882767\n",
      "accuracy_macro 0.7257709251101322\n",
      "Validation Result:\n",
      "recall_macro 0.5882587700923865\n",
      "f1_macro 0.5732191797934735\n",
      "precision_macro 0.5753435086155675\n",
      "accuracy_macro 0.6934306569343066\n",
      "C = 50\n",
      "Training Result:\n"
     ]
    },
    {
     "name": "stderr",
     "output_type": "stream",
     "text": [
      "/Users/waynewang/opt/anaconda3/lib/python3.8/site-packages/sklearn/metrics/_classification.py:1318: UndefinedMetricWarning: Precision is ill-defined and being set to 0.0 in labels with no predicted samples. Use `zero_division` parameter to control this behavior.\n",
      "  _warn_prf(average, modifier, msg_start, len(result))\n",
      "/Users/waynewang/opt/anaconda3/lib/python3.8/site-packages/sklearn/metrics/_classification.py:1318: UndefinedMetricWarning: Precision is ill-defined and being set to 0.0 in labels with no predicted samples. Use `zero_division` parameter to control this behavior.\n",
      "  _warn_prf(average, modifier, msg_start, len(result))\n"
     ]
    },
    {
     "name": "stdout",
     "output_type": "stream",
     "text": [
      "recall_macro 0.6238864232439965\n",
      "f1_macro 0.6170689261346229\n",
      "precision_macro 0.6130171759393651\n",
      "accuracy_macro 0.7290748898678414\n",
      "Validation Result:\n",
      "recall_macro 0.5882587700923865\n",
      "f1_macro 0.5721544715447154\n",
      "precision_macro 0.5741057847760994\n",
      "accuracy_macro 0.6934306569343066\n",
      "C = 80\n",
      "Training Result:\n"
     ]
    },
    {
     "name": "stderr",
     "output_type": "stream",
     "text": [
      "/Users/waynewang/opt/anaconda3/lib/python3.8/site-packages/sklearn/metrics/_classification.py:1318: UndefinedMetricWarning: Precision is ill-defined and being set to 0.0 in labels with no predicted samples. Use `zero_division` parameter to control this behavior.\n",
      "  _warn_prf(average, modifier, msg_start, len(result))\n",
      "/Users/waynewang/opt/anaconda3/lib/python3.8/site-packages/sklearn/metrics/_classification.py:1318: UndefinedMetricWarning: Precision is ill-defined and being set to 0.0 in labels with no predicted samples. Use `zero_division` parameter to control this behavior.\n",
      "  _warn_prf(average, modifier, msg_start, len(result))\n"
     ]
    },
    {
     "name": "stdout",
     "output_type": "stream",
     "text": [
      "recall_macro 0.6470732060896648\n",
      "f1_macro 0.6503550056578776\n",
      "precision_macro 0.7926600865147034\n",
      "accuracy_macro 0.7444933920704846\n",
      "Validation Result:\n",
      "recall_macro 0.5930206748542912\n",
      "f1_macro 0.5778129395218002\n",
      "precision_macro 0.5806538233008821\n",
      "accuracy_macro 0.7007299270072993\n"
     ]
    },
    {
     "name": "stderr",
     "output_type": "stream",
     "text": [
      "/Users/waynewang/opt/anaconda3/lib/python3.8/site-packages/sklearn/metrics/_classification.py:1318: UndefinedMetricWarning: Precision is ill-defined and being set to 0.0 in labels with no predicted samples. Use `zero_division` parameter to control this behavior.\n",
      "  _warn_prf(average, modifier, msg_start, len(result))\n"
     ]
    }
   ],
   "source": [
    "# Use the RBF kernel\n",
    "# Tune Regulation constant\n",
    "\n",
    "C_s = [0.001,0.005,0.1,0.5,1,5,10,15,20,30,50,80]\n",
    "C_score_rbf_train = []\n",
    "C_score_rbf_val = []\n",
    "SVM_weight = []\n",
    "for i in C_s:\n",
    "    print(\"C =\", i)\n",
    "    print(\"Training Result:\")\n",
    "    result_rbf_train = test_SVM(X_train,y_train,kernel = 'rbf', C= i)\n",
    "    C_score_rbf_train.append(result_rbf_train)\n",
    "    print(\"Validation Result:\")\n",
    "    result_rbf_val = test_SVM(X_val,y_val,kernel = 'rbf', C=i)\n",
    "    C_score_rbf_val.append(result_rbf_val)"
   ]
  },
  {
   "cell_type": "code",
   "execution_count": 87,
   "id": "ab690cc9",
   "metadata": {},
   "outputs": [
    {
     "data": {
      "image/png": "[encoded data removed]",
      "text/plain": [
       "<Figure size 640x480 with 1 Axes>"
      ]
     },
     "metadata": {},
     "output_type": "display_data"
    }
   ],
   "source": [
    "#plot the change in validation and training score with respect to different regulation strength\n",
    "plt.plot(C_s, C_score_rbf_train,label = \"training\",color ='b')\n",
    "plt.plot(C_s,C_score_rbf_val,label = \"validation\",color = \"r\")\n",
    "plt.xlabel(\"Regulation Strength\")\n",
    "plt.ylabel(\"precision\")\n",
    "plt.title('RBF')\n",
    "plt.legend()\n",
    "plt.show()"
   ]
  },
  {
   "cell_type": "code",
   "execution_count": 88,
   "id": "1c9f60fe",
   "metadata": {},
   "outputs": [
    {
     "name": "stdout",
     "output_type": "stream",
     "text": [
      "C = 0.001\n",
      "Training Result:\n",
      "recall_macro 0.16666666666666666\n",
      "f1_macro 0.06200507993425967\n",
      "precision_macro 0.03808737151248164\n",
      "accuracy_macro 0.22852422907488987\n",
      "Validation Result:\n",
      "recall_macro 0.16666666666666666\n",
      "f1_macro 0.06782945736434108\n",
      "precision_macro 0.04257907542579076\n",
      "accuracy_macro 0.25547445255474455\n",
      "C = 0.005\n",
      "Training Result:\n"
     ]
    },
    {
     "name": "stderr",
     "output_type": "stream",
     "text": [
      "/Users/waynewang/opt/anaconda3/lib/python3.8/site-packages/sklearn/metrics/_classification.py:1318: UndefinedMetricWarning: Precision is ill-defined and being set to 0.0 in labels with no predicted samples. Use `zero_division` parameter to control this behavior.\n",
      "  _warn_prf(average, modifier, msg_start, len(result))\n",
      "/Users/waynewang/opt/anaconda3/lib/python3.8/site-packages/sklearn/metrics/_classification.py:1318: UndefinedMetricWarning: Precision is ill-defined and being set to 0.0 in labels with no predicted samples. Use `zero_division` parameter to control this behavior.\n",
      "  _warn_prf(average, modifier, msg_start, len(result))\n"
     ]
    },
    {
     "name": "stdout",
     "output_type": "stream",
     "text": [
      "recall_macro 0.16666666666666666\n",
      "f1_macro 0.06200507993425967\n",
      "precision_macro 0.03808737151248164\n",
      "accuracy_macro 0.22852422907488987\n",
      "Validation Result:\n",
      "recall_macro 0.16666666666666666\n",
      "f1_macro 0.06782945736434108\n",
      "precision_macro 0.04257907542579076\n",
      "accuracy_macro 0.25547445255474455\n",
      "C = 0.1\n",
      "Training Result:\n"
     ]
    },
    {
     "name": "stderr",
     "output_type": "stream",
     "text": [
      "/Users/waynewang/opt/anaconda3/lib/python3.8/site-packages/sklearn/metrics/_classification.py:1318: UndefinedMetricWarning: Precision is ill-defined and being set to 0.0 in labels with no predicted samples. Use `zero_division` parameter to control this behavior.\n",
      "  _warn_prf(average, modifier, msg_start, len(result))\n",
      "/Users/waynewang/opt/anaconda3/lib/python3.8/site-packages/sklearn/metrics/_classification.py:1318: UndefinedMetricWarning: Precision is ill-defined and being set to 0.0 in labels with no predicted samples. Use `zero_division` parameter to control this behavior.\n",
      "  _warn_prf(average, modifier, msg_start, len(result))\n"
     ]
    },
    {
     "name": "stdout",
     "output_type": "stream",
     "text": [
      "recall_macro 0.3008318862326196\n",
      "f1_macro 0.23962595172799453\n",
      "precision_macro 0.30437358123504743\n",
      "accuracy_macro 0.3838105726872247\n",
      "Validation Result:\n",
      "recall_macro 0.28096225243055056\n",
      "f1_macro 0.20890650681760303\n",
      "precision_macro 0.2928479143595422\n",
      "accuracy_macro 0.35036496350364965\n",
      "C = 0.5\n",
      "Training Result:\n"
     ]
    },
    {
     "name": "stderr",
     "output_type": "stream",
     "text": [
      "/Users/waynewang/opt/anaconda3/lib/python3.8/site-packages/sklearn/metrics/_classification.py:1318: UndefinedMetricWarning: Precision is ill-defined and being set to 0.0 in labels with no predicted samples. Use `zero_division` parameter to control this behavior.\n",
      "  _warn_prf(average, modifier, msg_start, len(result))\n",
      "/Users/waynewang/opt/anaconda3/lib/python3.8/site-packages/sklearn/metrics/_classification.py:1318: UndefinedMetricWarning: Precision is ill-defined and being set to 0.0 in labels with no predicted samples. Use `zero_division` parameter to control this behavior.\n",
      "  _warn_prf(average, modifier, msg_start, len(result))\n"
     ]
    },
    {
     "name": "stdout",
     "output_type": "stream",
     "text": [
      "recall_macro 0.4358646864378315\n",
      "f1_macro 0.4289337545739167\n",
      "precision_macro 0.4313273835470636\n",
      "accuracy_macro 0.5192731277533039\n",
      "Validation Result:\n",
      "recall_macro 0.4055173326176195\n",
      "f1_macro 0.38361964474259597\n",
      "precision_macro 0.40968146171881314\n",
      "accuracy_macro 0.45985401459854014\n",
      "C = 1\n",
      "Training Result:\n"
     ]
    },
    {
     "name": "stderr",
     "output_type": "stream",
     "text": [
      "/Users/waynewang/opt/anaconda3/lib/python3.8/site-packages/sklearn/metrics/_classification.py:1318: UndefinedMetricWarning: Precision is ill-defined and being set to 0.0 in labels with no predicted samples. Use `zero_division` parameter to control this behavior.\n",
      "  _warn_prf(average, modifier, msg_start, len(result))\n",
      "/Users/waynewang/opt/anaconda3/lib/python3.8/site-packages/sklearn/metrics/_classification.py:1318: UndefinedMetricWarning: Precision is ill-defined and being set to 0.0 in labels with no predicted samples. Use `zero_division` parameter to control this behavior.\n",
      "  _warn_prf(average, modifier, msg_start, len(result))\n"
     ]
    },
    {
     "name": "stdout",
     "output_type": "stream",
     "text": [
      "recall_macro 0.4695009744116046\n",
      "f1_macro 0.46271810695784527\n",
      "precision_macro 0.4621852308326866\n",
      "accuracy_macro 0.5572687224669604\n",
      "Validation Result:\n",
      "recall_macro 0.399957929001896\n",
      "f1_macro 0.3847009866686751\n",
      "precision_macro 0.39588840614248966\n",
      "accuracy_macro 0.46715328467153283\n",
      "C = 5\n",
      "Training Result:\n"
     ]
    },
    {
     "name": "stderr",
     "output_type": "stream",
     "text": [
      "/Users/waynewang/opt/anaconda3/lib/python3.8/site-packages/sklearn/metrics/_classification.py:1318: UndefinedMetricWarning: Precision is ill-defined and being set to 0.0 in labels with no predicted samples. Use `zero_division` parameter to control this behavior.\n",
      "  _warn_prf(average, modifier, msg_start, len(result))\n",
      "/Users/waynewang/opt/anaconda3/lib/python3.8/site-packages/sklearn/metrics/_classification.py:1318: UndefinedMetricWarning: Precision is ill-defined and being set to 0.0 in labels with no predicted samples. Use `zero_division` parameter to control this behavior.\n",
      "  _warn_prf(average, modifier, msg_start, len(result))\n"
     ]
    },
    {
     "name": "stdout",
     "output_type": "stream",
     "text": [
      "recall_macro 0.5096744943964879\n",
      "f1_macro 0.4982661602893384\n",
      "precision_macro 0.4946458564218073\n",
      "accuracy_macro 0.5974669603524229\n",
      "Validation Result:\n",
      "recall_macro 0.4680073629315477\n",
      "f1_macro 0.45037721830357486\n",
      "precision_macro 0.45275138260432374\n",
      "accuracy_macro 0.5547445255474452\n",
      "C = 10\n",
      "Training Result:\n"
     ]
    },
    {
     "name": "stderr",
     "output_type": "stream",
     "text": [
      "/Users/waynewang/opt/anaconda3/lib/python3.8/site-packages/sklearn/metrics/_classification.py:1318: UndefinedMetricWarning: Precision is ill-defined and being set to 0.0 in labels with no predicted samples. Use `zero_division` parameter to control this behavior.\n",
      "  _warn_prf(average, modifier, msg_start, len(result))\n",
      "/Users/waynewang/opt/anaconda3/lib/python3.8/site-packages/sklearn/metrics/_classification.py:1318: UndefinedMetricWarning: Precision is ill-defined and being set to 0.0 in labels with no predicted samples. Use `zero_division` parameter to control this behavior.\n",
      "  _warn_prf(average, modifier, msg_start, len(result))\n"
     ]
    },
    {
     "name": "stdout",
     "output_type": "stream",
     "text": [
      "recall_macro 0.5072524337047414\n",
      "f1_macro 0.4961782955087812\n",
      "precision_macro 0.49163253857817607\n",
      "accuracy_macro 0.5958149779735683\n",
      "Validation Result:\n",
      "recall_macro 0.47937449042770747\n",
      "f1_macro 0.47042562497135526\n",
      "precision_macro 0.4702204282848829\n",
      "accuracy_macro 0.5693430656934306\n",
      "C = 15\n",
      "Training Result:\n"
     ]
    },
    {
     "name": "stderr",
     "output_type": "stream",
     "text": [
      "/Users/waynewang/opt/anaconda3/lib/python3.8/site-packages/sklearn/metrics/_classification.py:1318: UndefinedMetricWarning: Precision is ill-defined and being set to 0.0 in labels with no predicted samples. Use `zero_division` parameter to control this behavior.\n",
      "  _warn_prf(average, modifier, msg_start, len(result))\n",
      "/Users/waynewang/opt/anaconda3/lib/python3.8/site-packages/sklearn/metrics/_classification.py:1318: UndefinedMetricWarning: Precision is ill-defined and being set to 0.0 in labels with no predicted samples. Use `zero_division` parameter to control this behavior.\n",
      "  _warn_prf(average, modifier, msg_start, len(result))\n"
     ]
    },
    {
     "name": "stdout",
     "output_type": "stream",
     "text": [
      "recall_macro 0.5297649099800562\n",
      "f1_macro 0.511850309895208\n",
      "precision_macro 0.5074417315641121\n",
      "accuracy_macro 0.6183920704845814\n",
      "Validation Result:\n",
      "recall_macro 0.5301134066838652\n",
      "f1_macro 0.5183248086925686\n",
      "precision_macro 0.5159844449699522\n",
      "accuracy_macro 0.635036496350365\n",
      "C = 20\n",
      "Training Result:\n"
     ]
    },
    {
     "name": "stderr",
     "output_type": "stream",
     "text": [
      "/Users/waynewang/opt/anaconda3/lib/python3.8/site-packages/sklearn/metrics/_classification.py:1318: UndefinedMetricWarning: Precision is ill-defined and being set to 0.0 in labels with no predicted samples. Use `zero_division` parameter to control this behavior.\n",
      "  _warn_prf(average, modifier, msg_start, len(result))\n",
      "/Users/waynewang/opt/anaconda3/lib/python3.8/site-packages/sklearn/metrics/_classification.py:1318: UndefinedMetricWarning: Precision is ill-defined and being set to 0.0 in labels with no predicted samples. Use `zero_division` parameter to control this behavior.\n",
      "  _warn_prf(average, modifier, msg_start, len(result))\n"
     ]
    },
    {
     "name": "stdout",
     "output_type": "stream",
     "text": [
      "recall_macro 0.5333400523864164\n",
      "f1_macro 0.5154206207210034\n",
      "precision_macro 0.5107827244087669\n",
      "accuracy_macro 0.6222466960352423\n",
      "Validation Result:\n",
      "recall_macro 0.5287470876605003\n",
      "f1_macro 0.514141515293589\n",
      "precision_macro 0.5087149596953519\n",
      "accuracy_macro 0.6277372262773723\n",
      "C = 30\n",
      "Training Result:\n"
     ]
    },
    {
     "name": "stderr",
     "output_type": "stream",
     "text": [
      "/Users/waynewang/opt/anaconda3/lib/python3.8/site-packages/sklearn/metrics/_classification.py:1318: UndefinedMetricWarning: Precision is ill-defined and being set to 0.0 in labels with no predicted samples. Use `zero_division` parameter to control this behavior.\n",
      "  _warn_prf(average, modifier, msg_start, len(result))\n",
      "/Users/waynewang/opt/anaconda3/lib/python3.8/site-packages/sklearn/metrics/_classification.py:1318: UndefinedMetricWarning: Precision is ill-defined and being set to 0.0 in labels with no predicted samples. Use `zero_division` parameter to control this behavior.\n",
      "  _warn_prf(average, modifier, msg_start, len(result))\n"
     ]
    },
    {
     "name": "stdout",
     "output_type": "stream",
     "text": [
      "recall_macro 0.5353952117995793\n",
      "f1_macro 0.5175896185548784\n",
      "precision_macro 0.5130181551934913\n",
      "accuracy_macro 0.625\n",
      "Validation Result:\n",
      "recall_macro 0.5253515019219602\n",
      "f1_macro 0.5114405520084954\n",
      "precision_macro 0.5057141765088101\n",
      "accuracy_macro 0.6277372262773723\n",
      "C = 50\n",
      "Training Result:\n"
     ]
    },
    {
     "name": "stderr",
     "output_type": "stream",
     "text": [
      "/Users/waynewang/opt/anaconda3/lib/python3.8/site-packages/sklearn/metrics/_classification.py:1318: UndefinedMetricWarning: Precision is ill-defined and being set to 0.0 in labels with no predicted samples. Use `zero_division` parameter to control this behavior.\n",
      "  _warn_prf(average, modifier, msg_start, len(result))\n",
      "/Users/waynewang/opt/anaconda3/lib/python3.8/site-packages/sklearn/metrics/_classification.py:1318: UndefinedMetricWarning: Precision is ill-defined and being set to 0.0 in labels with no predicted samples. Use `zero_division` parameter to control this behavior.\n",
      "  _warn_prf(average, modifier, msg_start, len(result))\n"
     ]
    },
    {
     "name": "stdout",
     "output_type": "stream",
     "text": [
      "recall_macro 0.5357496909406333\n",
      "f1_macro 0.5180215439997066\n",
      "precision_macro 0.5132628177045763\n",
      "accuracy_macro 0.6255506607929515\n",
      "Validation Result:\n",
      "recall_macro 0.5253515019219602\n",
      "f1_macro 0.5116864176003961\n",
      "precision_macro 0.5039249495771235\n",
      "accuracy_macro 0.6277372262773723\n",
      "C = 80\n",
      "Training Result:\n"
     ]
    },
    {
     "name": "stderr",
     "output_type": "stream",
     "text": [
      "/Users/waynewang/opt/anaconda3/lib/python3.8/site-packages/sklearn/metrics/_classification.py:1318: UndefinedMetricWarning: Precision is ill-defined and being set to 0.0 in labels with no predicted samples. Use `zero_division` parameter to control this behavior.\n",
      "  _warn_prf(average, modifier, msg_start, len(result))\n",
      "/Users/waynewang/opt/anaconda3/lib/python3.8/site-packages/sklearn/metrics/_classification.py:1318: UndefinedMetricWarning: Precision is ill-defined and being set to 0.0 in labels with no predicted samples. Use `zero_division` parameter to control this behavior.\n",
      "  _warn_prf(average, modifier, msg_start, len(result))\n"
     ]
    },
    {
     "name": "stdout",
     "output_type": "stream",
     "text": [
      "recall_macro 0.5282948716635248\n",
      "f1_macro 0.5107185331994707\n",
      "precision_macro 0.5060213258305519\n",
      "accuracy_macro 0.6172907488986784\n",
      "Validation Result:\n",
      "recall_macro 0.5301134066838652\n",
      "f1_macro 0.5195061728395062\n",
      "precision_macro 0.5150104766256487\n",
      "accuracy_macro 0.635036496350365\n"
     ]
    },
    {
     "name": "stderr",
     "output_type": "stream",
     "text": [
      "/Users/waynewang/opt/anaconda3/lib/python3.8/site-packages/sklearn/metrics/_classification.py:1318: UndefinedMetricWarning: Precision is ill-defined and being set to 0.0 in labels with no predicted samples. Use `zero_division` parameter to control this behavior.\n",
      "  _warn_prf(average, modifier, msg_start, len(result))\n",
      "/Users/waynewang/opt/anaconda3/lib/python3.8/site-packages/sklearn/metrics/_classification.py:1318: UndefinedMetricWarning: Precision is ill-defined and being set to 0.0 in labels with no predicted samples. Use `zero_division` parameter to control this behavior.\n",
      "  _warn_prf(average, modifier, msg_start, len(result))\n"
     ]
    }
   ],
   "source": [
    "# Use the linear kernel\n",
    "# Tune Regulation constant\n",
    "\n",
    "C_s = [0.001,0.005,0.1,0.5,1,5,10,15,20,30,50,80]\n",
    "C_score_lin_train = []\n",
    "C_score_lin_val = []\n",
    "SVM_weight = []\n",
    "for i in C_s:\n",
    "    print(\"C =\", i)\n",
    "    print(\"Training Result:\")\n",
    "    result_lin_train = test_SVM(X_train,y_train,kernel = 'linear', C= i)\n",
    "    C_score_lin_train.append(result_lin_train)\n",
    "    print(\"Validation Result:\")\n",
    "    result_lin_val = test_SVM(X_val,y_val,kernel = 'linear', C=i)\n",
    "    C_score_lin_val.append(result_lin_val)"
   ]
  },
  {
   "cell_type": "code",
   "execution_count": 89,
   "id": "2bce8720",
   "metadata": {},
   "outputs": [
    {
     "data": {
      "image/png": "[encoded data removed]",
      "text/plain": [
       "<Figure size 640x480 with 1 Axes>"
      ]
     },
     "metadata": {},
     "output_type": "display_data"
    }
   ],
   "source": [
    "#plot the change in validation and training score with respect to different regulation strength\n",
    "plt.plot(C_s, C_score_lin_train,label = \"training\",color ='b')\n",
    "plt.plot(C_s,C_score_lin_val,label = \"validation\",color = \"r\")\n",
    "plt.xlabel(\"Regulation Strength\")\n",
    "plt.ylabel(\"precision\")\n",
    "plt.title('Linear')\n",
    "plt.legend()\n",
    "plt.show()"
   ]
  },
  {
   "cell_type": "code",
   "execution_count": 90,
   "id": "e3a3b034",
   "metadata": {},
   "outputs": [
    {
     "name": "stdout",
     "output_type": "stream",
     "text": [
      "C = 0.001\n",
      "Training Result:\n",
      "C = 0.005\n",
      "Training Result:\n",
      "C = 0.1\n",
      "Training Result:\n",
      "C = 0.5\n",
      "Training Result:\n",
      "C = 1\n",
      "Training Result:\n",
      "C = 5\n",
      "Training Result:\n",
      "C = 10\n",
      "Training Result:\n",
      "C = 15\n",
      "Training Result:\n",
      "C = 20\n",
      "Training Result:\n",
      "C = 30\n",
      "Training Result:\n",
      "C = 50\n",
      "Training Result:\n",
      "C = 80\n",
      "Training Result:\n"
     ]
    }
   ],
   "source": [
    "# plot the weight changes\n",
    "SVM_weight = []\n",
    "for i in C_s:\n",
    "    print(\"C =\", i)\n",
    "    print(\"Training Result:\")\n",
    "    weights = weight_SVM(kernel = 'linear', C= i)\n",
    "    SVM_weight.append(weights)\n",
    "\n",
    "all_w_svm = []\n",
    "\n",
    "for j in range(len(SVM_weight[0][0])):\n",
    "    all_w_j = []\n",
    "    for i in range(len(SVM_weight)):\n",
    "        all_w_j.append(SVM_weight[i][0][j])\n",
    "    all_w_svm.append(all_w_j)"
   ]
  },
  {
   "cell_type": "code",
   "execution_count": 91,
   "id": "06867e33",
   "metadata": {},
   "outputs": [
    {
     "data": {
      "image/png": "[encoded data removed]",
      "text/plain": [
       "<Figure size 640x480 with 1 Axes>"
      ]
     },
     "metadata": {},
     "output_type": "display_data"
    }
   ],
   "source": [
    "color = iter(cm.rainbow(np.linspace(0, 1, 200)))\n",
    "\n",
    "for w in range(len(all_w_svm)):\n",
    "    c = next(color)\n",
    "    label_value = 'w_'+str(w+1)\n",
    "        #plot the change in feature weights with respect to different regulation strength\n",
    "    plt.plot(C_s,all_w_svm[w], label = label_value)\n",
    "plt.legend()\n",
    "plt.xlabel(\"Regulation Strength\")\n",
    "plt.ylabel(\"precision\")\n",
    "plt.title(\"weights vs. regularization strength [Linear Kernel]\")\n",
    "plt.show()"
   ]
  },
  {
   "cell_type": "code",
   "execution_count": 92,
   "id": "d6a03425",
   "metadata": {},
   "outputs": [
    {
     "name": "stdout",
     "output_type": "stream",
     "text": [
      "recall_macro 0.6754839363535016\n",
      "f1_macro 0.672119865271461\n",
      "precision_macro 0.6697871572871573\n",
      "accuracy_macro 0.777027027027027\n"
     ]
    },
    {
     "name": "stderr",
     "output_type": "stream",
     "text": [
      "/Users/waynewang/opt/anaconda3/lib/python3.8/site-packages/sklearn/metrics/_classification.py:1318: UndefinedMetricWarning: Recall is ill-defined and being set to 0.0 in labels with no true samples. Use `zero_division` parameter to control this behavior.\n",
      "  _warn_prf(average, modifier, msg_start, len(result))\n"
     ]
    }
   ],
   "source": [
    "# Test result SVM\n",
    "# degree = 5\n",
    "# regularization = 15\n",
    "\n",
    "result_final =  test_SVM(X_test,y_test,kernel = 'poly',degree=7, C= 15)\n"
   ]
  },
  {
   "cell_type": "code",
   "execution_count": 93,
   "id": "8c7eff2d",
   "metadata": {},
   "outputs": [
    {
     "name": "stdout",
     "output_type": "stream",
     "text": [
      "The test score of SVM is: 0.777027027027027\n"
     ]
    }
   ],
   "source": [
    "print('The test score of SVM is:',result_final)"
   ]
  },
  {
   "cell_type": "code",
   "execution_count": null,
   "id": "1ebf339b",
   "metadata": {},
   "outputs": [],
   "source": []
  }
 ],
 "metadata": {
  "kernelspec": {
   "display_name": "Python 3 (ipykernel)",
   "language": "python",
   "name": "python3"
  },
  "language_info": {
   "codemirror_mode": {
    "name": "ipython",
    "version": 3
   },
   "file_extension": ".py",
   "mimetype": "text/x-python",
   "name": "python",
   "nbconvert_exporter": "python",
   "pygments_lexer": "ipython3",
   "version": "3.8.8"
  }
 },
 "nbformat": 4,
 "nbformat_minor": 5
}
